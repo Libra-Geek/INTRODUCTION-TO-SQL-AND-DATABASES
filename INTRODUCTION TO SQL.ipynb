{
 "cells": [
  {
   "cell_type": "markdown",
   "id": "0c257ca8-19e6-4ebd-b2a9-47481d7715cf",
   "metadata": {},
   "source": [
    "# INTRODUCTION TO SQL\n",
    "\n",
    "- In this lesson, I would be showing you the basics of SQL and how you can write a query in a Jupyter notebook.\n",
    "\n",
    "- The database used for this lesson is from the Chinook Database and can be found [here](https://github.com/lerocha/chinook-database/blob/master/ChinookDatabase/DataSources/Chinook_Sqlite.sqlite)\n",
    "\n",
    "- At the end of this lesson, you would have learnt:\n",
    "\n",
    "    - How to install essential libraries and write SQL queries from a Jupyter Notebook\n",
    "    - How to read an existing SQL database into a Jupyter notebook\n",
    "    - The SQL 'SELECT' clause\n",
    "    - Naming SQL queries using the 'AS' clause. \n",
    "    - Arithmetic in SQL: Addition, Division, Subtraction and Multiplication\n",
    "    \n",
    "- For basic rules you should look out for when starting out on your SQL learning journey, refer to my compiled list of rules named THE SQL BIBLE"
   ]
  },
  {
   "cell_type": "code",
   "execution_count": 19,
   "id": "dfb8c695-44bf-418d-aa9c-c7f007fb49b9",
   "metadata": {
    "collapsed": true,
    "jupyter": {
     "outputs_hidden": true
    },
    "tags": []
   },
   "outputs": [
    {
     "name": "stdout",
     "output_type": "stream",
     "text": [
      "Requirement already satisfied: ipython-sql in /opt/anaconda3/lib/python3.9/site-packages (0.4.1)\n",
      "Requirement already satisfied: sqlalchemy>=0.6.7 in /opt/anaconda3/lib/python3.9/site-packages (from ipython-sql) (1.4.39)\n",
      "Requirement already satisfied: prettytable<1 in /opt/anaconda3/lib/python3.9/site-packages (from ipython-sql) (0.7.2)\n",
      "Requirement already satisfied: ipython>=1.0 in /opt/anaconda3/lib/python3.9/site-packages (from ipython-sql) (7.31.1)\n",
      "Requirement already satisfied: six in /opt/anaconda3/lib/python3.9/site-packages (from ipython-sql) (1.16.0)\n",
      "Requirement already satisfied: ipython-genutils>=0.1.0 in /opt/anaconda3/lib/python3.9/site-packages (from ipython-sql) (0.2.0)\n",
      "Requirement already satisfied: sqlparse in /opt/anaconda3/lib/python3.9/site-packages (from ipython-sql) (0.4.3)\n",
      "Requirement already satisfied: traitlets>=4.2 in /opt/anaconda3/lib/python3.9/site-packages (from ipython>=1.0->ipython-sql) (5.1.1)\n",
      "Requirement already satisfied: decorator in /opt/anaconda3/lib/python3.9/site-packages (from ipython>=1.0->ipython-sql) (5.1.1)\n",
      "Requirement already satisfied: pexpect>4.3 in /opt/anaconda3/lib/python3.9/site-packages (from ipython>=1.0->ipython-sql) (4.8.0)\n",
      "Requirement already satisfied: pygments in /opt/anaconda3/lib/python3.9/site-packages (from ipython>=1.0->ipython-sql) (2.11.2)\n",
      "Requirement already satisfied: matplotlib-inline in /opt/anaconda3/lib/python3.9/site-packages (from ipython>=1.0->ipython-sql) (0.1.6)\n",
      "Requirement already satisfied: appnope in /opt/anaconda3/lib/python3.9/site-packages (from ipython>=1.0->ipython-sql) (0.1.2)\n",
      "Requirement already satisfied: prompt-toolkit!=3.0.0,!=3.0.1,<3.1.0,>=2.0.0 in /opt/anaconda3/lib/python3.9/site-packages (from ipython>=1.0->ipython-sql) (3.0.20)\n",
      "Requirement already satisfied: backcall in /opt/anaconda3/lib/python3.9/site-packages (from ipython>=1.0->ipython-sql) (0.2.0)\n",
      "Requirement already satisfied: setuptools>=18.5 in /opt/anaconda3/lib/python3.9/site-packages (from ipython>=1.0->ipython-sql) (63.4.1)\n",
      "Requirement already satisfied: jedi>=0.16 in /opt/anaconda3/lib/python3.9/site-packages (from ipython>=1.0->ipython-sql) (0.18.1)\n",
      "Requirement already satisfied: pickleshare in /opt/anaconda3/lib/python3.9/site-packages (from ipython>=1.0->ipython-sql) (0.7.5)\n",
      "Requirement already satisfied: greenlet!=0.4.17 in /opt/anaconda3/lib/python3.9/site-packages (from sqlalchemy>=0.6.7->ipython-sql) (1.1.1)\n",
      "Requirement already satisfied: parso<0.9.0,>=0.8.0 in /opt/anaconda3/lib/python3.9/site-packages (from jedi>=0.16->ipython>=1.0->ipython-sql) (0.8.3)\n",
      "Requirement already satisfied: ptyprocess>=0.5 in /opt/anaconda3/lib/python3.9/site-packages (from pexpect>4.3->ipython>=1.0->ipython-sql) (0.7.0)\n",
      "Requirement already satisfied: wcwidth in /opt/anaconda3/lib/python3.9/site-packages (from prompt-toolkit!=3.0.0,!=3.0.1,<3.1.0,>=2.0.0->ipython>=1.0->ipython-sql) (0.2.5)\n",
      "Requirement already satisfied: SQLAlchemy in /opt/anaconda3/lib/python3.9/site-packages (1.4.39)\n",
      "Requirement already satisfied: greenlet!=0.4.17 in /opt/anaconda3/lib/python3.9/site-packages (from SQLAlchemy) (1.1.1)\n",
      "Requirement already satisfied: sql in /opt/anaconda3/lib/python3.9/site-packages (2022.4.0)\n",
      "Requirement already satisfied: psycopg2-binary in /opt/anaconda3/lib/python3.9/site-packages (2.9.5)\n",
      "Requirement already satisfied: snowflake-connector-python in /opt/anaconda3/lib/python3.9/site-packages (2.8.3)\n",
      "Requirement already satisfied: oscrypto<2.0.0 in /opt/anaconda3/lib/python3.9/site-packages (from snowflake-connector-python) (1.3.0)\n",
      "Requirement already satisfied: pyjwt<3.0.0 in /opt/anaconda3/lib/python3.9/site-packages (from snowflake-connector-python) (2.4.0)\n",
      "Requirement already satisfied: pytz in /opt/anaconda3/lib/python3.9/site-packages (from snowflake-connector-python) (2022.1)\n",
      "Requirement already satisfied: cryptography<41.0.0,>=3.1.0 in /opt/anaconda3/lib/python3.9/site-packages (from snowflake-connector-python) (37.0.1)\n",
      "Requirement already satisfied: asn1crypto<2.0.0,>0.24.0 in /opt/anaconda3/lib/python3.9/site-packages (from snowflake-connector-python) (1.5.1)\n",
      "Requirement already satisfied: certifi>=2017.4.17 in /opt/anaconda3/lib/python3.9/site-packages (from snowflake-connector-python) (2022.9.24)\n",
      "Requirement already satisfied: setuptools>34.0.0 in /opt/anaconda3/lib/python3.9/site-packages (from snowflake-connector-python) (63.4.1)\n",
      "Requirement already satisfied: cffi<2.0.0,>=1.9 in /opt/anaconda3/lib/python3.9/site-packages (from snowflake-connector-python) (1.15.1)\n",
      "Requirement already satisfied: typing-extensions<5,>=4.3 in /opt/anaconda3/lib/python3.9/site-packages (from snowflake-connector-python) (4.3.0)\n",
      "Requirement already satisfied: idna<4,>=2.5 in /opt/anaconda3/lib/python3.9/site-packages (from snowflake-connector-python) (3.3)\n",
      "Requirement already satisfied: pyOpenSSL<23.0.0,>=16.2.0 in /opt/anaconda3/lib/python3.9/site-packages (from snowflake-connector-python) (22.0.0)\n",
      "Requirement already satisfied: charset-normalizer<3,>=2 in /opt/anaconda3/lib/python3.9/site-packages (from snowflake-connector-python) (2.0.4)\n",
      "Requirement already satisfied: pycryptodomex!=3.5.0,<4.0.0,>=3.2 in /opt/anaconda3/lib/python3.9/site-packages (from snowflake-connector-python) (3.16.0)\n",
      "Requirement already satisfied: requests<3.0.0 in /opt/anaconda3/lib/python3.9/site-packages (from snowflake-connector-python) (2.28.1)\n",
      "Requirement already satisfied: urllib3<1.27,>=1.21.1 in /opt/anaconda3/lib/python3.9/site-packages (from snowflake-connector-python) (1.26.11)\n",
      "Requirement already satisfied: filelock<4,>=3.5 in /opt/anaconda3/lib/python3.9/site-packages (from snowflake-connector-python) (3.6.0)\n",
      "Requirement already satisfied: pycparser in /opt/anaconda3/lib/python3.9/site-packages (from cffi<2.0.0,>=1.9->snowflake-connector-python) (2.21)\n",
      "Requirement already satisfied: mysql-connector-python in /opt/anaconda3/lib/python3.9/site-packages (8.0.31)\n",
      "Requirement already satisfied: protobuf<=3.20.1,>=3.11.0 in /opt/anaconda3/lib/python3.9/site-packages (from mysql-connector-python) (3.20.1)\n",
      "Requirement already satisfied: cx_Oracle in /opt/anaconda3/lib/python3.9/site-packages (8.3.0)\n",
      "Requirement already satisfied: pyodbc in /opt/anaconda3/lib/python3.9/site-packages (4.0.34)\n",
      "\u001b[31mERROR: Could not find a version that satisfies the requirement sqlite3 (from versions: none)\u001b[0m\u001b[31m\n",
      "\u001b[0m\u001b[31mERROR: No matching distribution found for sqlite3\u001b[0m\u001b[31m\n",
      "\u001b[0m"
     ]
    }
   ],
   "source": [
    "# INSTALLING THE ESSENTIAL LIBRARIES\n",
    "\n",
    "! pip install ipython-sql #this library enables you to run SQL queries directly in the Notebook\n",
    "! pip install SQLAlchemy #this library enables you to take full advantage of SQL in Python\n",
    "! pip install psycopg2-binary # to connect to the PostgreSQL database\n",
    "! pip install snowflake-connector-python # to connect to the Snowflake atabase\n",
    "! pip install mysql-connector-python # to connect to the MySQL database\n",
    "! pip install pyodbc # to connect to the SQL server"
   ]
  },
  {
   "cell_type": "markdown",
   "id": "cebcce45-2625-4bb3-be6c-fcdef09a1b1f",
   "metadata": {},
   "source": [
    "- Note that you do not need to install all the databases in the last 4 lines above. Depending on which database you would like to connect to, it is only advisable to prioritize the MySQL database and the SQL server for now.\n",
    "\n",
    "\n",
    "- Other databases you can connect to publicly include the [IBM Database](https://www.ibm.com/cloud/databases-for-mysql), [Oracle Database](https://www.oracle.com/database/) and so on. You can also connect to your company's database if you have access to that."
   ]
  },
  {
   "cell_type": "markdown",
   "id": "a726bfc0-5c75-4f0f-a201-c21ffcd3763c",
   "metadata": {},
   "source": [
    "## READ THE DATABASE INTO THE JUPYTER NOTEBOOK\n",
    "\n",
    "- In the next cell below, we would now connect to the database we would like to used for this lesson by reading it into the Jupyter notebook."
   ]
  },
  {
   "cell_type": "markdown",
   "id": "c8a9bba9-dc99-4dc5-9ca0-d057cf45c17a",
   "metadata": {},
   "source": [
    "%%capture\n",
    "%load_ext sql\n",
    "%sql sqlite:///chinook.db"
   ]
  },
  {
   "cell_type": "markdown",
   "id": "70682bc0-477a-4e45-b961-99d98fc98d23",
   "metadata": {},
   "source": [
    "## THE SQL `SELECT` CLAUSE\n",
    "\n",
    "- Now that we have connected to our database, we can now move on to learning our first clause in SQL: the `SELECT` clause.\n",
    "\n",
    "- The SELECT clause is used in SQL to specify the columns from which data values are to be retrieved by the query. In other words, if our dataset has 5 columns and we want to sum up 2 out of the 5 columns using their headings, we can use the clause to specify what exactly we want our query to generate data values from.\n",
    "\n",
    "- Let's try to use this clause in its simplest form:"
   ]
  },
  {
   "cell_type": "code",
   "execution_count": 28,
   "id": "918729fc-50dc-44e1-8598-5ebbe5dd5923",
   "metadata": {},
   "outputs": [
    {
     "name": "stdout",
     "output_type": "stream",
     "text": [
      " * sqlite:///chinook.db\n",
      "Done.\n"
     ]
    },
    {
     "data": {
      "text/html": [
       "<table>\n",
       "    <tr>\n",
       "        <th>3+5</th>\n",
       "    </tr>\n",
       "    <tr>\n",
       "        <td>8</td>\n",
       "    </tr>\n",
       "</table>"
      ],
      "text/plain": [
       "[(8,)]"
      ]
     },
     "execution_count": 28,
     "metadata": {},
     "output_type": "execute_result"
    }
   ],
   "source": [
    "%sql SELECT 3+5"
   ]
  },
  {
   "cell_type": "code",
   "execution_count": 33,
   "id": "672f6562-a070-4f4b-a7b1-2928ec238f59",
   "metadata": {},
   "outputs": [
    {
     "name": "stdout",
     "output_type": "stream",
     "text": [
      " * sqlite:///chinook.db\n",
      "Done.\n"
     ]
    },
    {
     "data": {
      "text/html": [
       "<table>\n",
       "    <tr>\n",
       "        <th>1+3+5</th>\n",
       "        <th>1+10</th>\n",
       "        <th>2+4+6+8+10</th>\n",
       "    </tr>\n",
       "    <tr>\n",
       "        <td>9</td>\n",
       "        <td>11</td>\n",
       "        <td>30</td>\n",
       "    </tr>\n",
       "</table>"
      ],
      "text/plain": [
       "[(9, 11, 30)]"
      ]
     },
     "execution_count": 33,
     "metadata": {},
     "output_type": "execute_result"
    }
   ],
   "source": [
    "# Let's take this up a notch and use the clause to perform complex calculations.\n",
    "\n",
    "%sql SELECT 1+3+5, 1+10,2+4+6+8+10;"
   ]
  },
  {
   "cell_type": "markdown",
   "id": "96af5dd7-e4a0-4c49-b9df-12153322fa26",
   "metadata": {},
   "source": [
    "## THE SQL `AS` CLAUSE\n",
    "\n",
    "- There are cases where we would like to give descriptive names to the resulting values from our SQL queries. Just like in Python where we would assign values to a variable using the (=) sign, we can use the `AS` clause in SQL.\n",
    "\n",
    "- Let us practice how to use this below:"
   ]
  },
  {
   "cell_type": "code",
   "execution_count": 34,
   "id": "3de07ba3-e149-49d6-aab7-18d78ddf9b90",
   "metadata": {},
   "outputs": [
    {
     "name": "stdout",
     "output_type": "stream",
     "text": [
      " * sqlite:///chinook.db\n",
      "Done.\n"
     ]
    },
    {
     "data": {
      "text/html": [
       "<table>\n",
       "    <tr>\n",
       "        <th>sum_first_prime_numbers</th>\n",
       "    </tr>\n",
       "    <tr>\n",
       "        <td>17</td>\n",
       "    </tr>\n",
       "</table>"
      ],
      "text/plain": [
       "[(17,)]"
      ]
     },
     "execution_count": 34,
     "metadata": {},
     "output_type": "execute_result"
    }
   ],
   "source": [
    "%sql SELECT 2+3+5+7 AS sum_first_prime_numbers"
   ]
  },
  {
   "cell_type": "markdown",
   "id": "40dd7b82-569d-4447-8469-156e8ad308f9",
   "metadata": {},
   "source": [
    "## ARITHMETIC IN SQL\n",
    "\n",
    "- Just like we can use the various keyboard signs (/ * + -) to perform normal arithmetic on a regular calculator, we can also perform arithmetic calculations on SQL queries using the same signs.\n",
    "\n",
    "- When performing arithmetic operations using SQL, note that SQL also follows the normal arithmetic operation rule when executing calculations. This implies that where you have a complex calculation with addition and division, you should introduce a parentheses so that SQL can divide before adding. Same follows for every other complex calculation.\n",
    "\n",
    "- Let's explore an example below:"
   ]
  },
  {
   "cell_type": "code",
   "execution_count": 36,
   "id": "d0fc069d-4dc6-48d9-bf15-4cd75c80dff3",
   "metadata": {},
   "outputs": [
    {
     "name": "stdout",
     "output_type": "stream",
     "text": [
      " * sqlite:///chinook.db\n",
      "Done.\n"
     ]
    },
    {
     "data": {
      "text/html": [
       "<table>\n",
       "    <tr>\n",
       "        <th>sub</th>\n",
       "        <th>mult</th>\n",
       "        <th>div</th>\n",
       "        <th>sum_mult</th>\n",
       "    </tr>\n",
       "    <tr>\n",
       "        <td>1337</td>\n",
       "        <td>21</td>\n",
       "        <td>3</td>\n",
       "        <td>25</td>\n",
       "    </tr>\n",
       "</table>"
      ],
      "text/plain": [
       "[(1337, 21, 3, 25)]"
      ]
     },
     "execution_count": 36,
     "metadata": {},
     "output_type": "execute_result"
    }
   ],
   "source": [
    "%sql SELECT 1340 - 3 AS sub, 7 * 3 AS mult, 21 / 7 AS div, 5 * (2 + 3) AS sum_mult;"
   ]
  },
  {
   "cell_type": "code",
   "execution_count": 37,
   "id": "2785bddd-dd1b-4d00-99da-2f7810224bb0",
   "metadata": {},
   "outputs": [
    {
     "name": "stdout",
     "output_type": "stream",
     "text": [
      " * sqlite:///chinook.db\n",
      "Done.\n"
     ]
    },
    {
     "data": {
      "text/html": [
       "<table>\n",
       "    <tr>\n",
       "        <th>sum_prime</th>\n",
       "        <th>sub</th>\n",
       "        <th>div</th>\n",
       "        <th>mult</th>\n",
       "        <th>sum_mult</th>\n",
       "    </tr>\n",
       "    <tr>\n",
       "        <td>10</td>\n",
       "        <td>17</td>\n",
       "        <td>8</td>\n",
       "        <td>15</td>\n",
       "        <td>16</td>\n",
       "    </tr>\n",
       "</table>"
      ],
      "text/plain": [
       "[(10, 17, 8, 15, 16)]"
      ]
     },
     "execution_count": 37,
     "metadata": {},
     "output_type": "execute_result"
    }
   ],
   "source": [
    "%sql SELECT 2+3+5 AS sum_prime,20-3 AS sub, 16/2 AS div, 3*5 AS mult, (3+5) *2 AS sum_mult"
   ]
  },
  {
   "cell_type": "markdown",
   "id": "2e5ae3a7-c204-410b-8a2d-5e76612aa19d",
   "metadata": {},
   "source": [
    "## CONCLUSION\n",
    "\n",
    "- This ends the introductory lesson to SQL and I believe that you have had a walkthrough of the learning points highlighted at the beginning of the lesson.\n",
    "\n",
    "- We would now move on to learn Databases in SQL."
   ]
  }
 ],
 "metadata": {
  "kernelspec": {
   "display_name": "Python 3 (ipykernel)",
   "language": "python",
   "name": "python3"
  },
  "language_info": {
   "codemirror_mode": {
    "name": "ipython",
    "version": 3
   },
   "file_extension": ".py",
   "mimetype": "text/x-python",
   "name": "python",
   "nbconvert_exporter": "python",
   "pygments_lexer": "ipython3",
   "version": "3.9.13"
  }
 },
 "nbformat": 4,
 "nbformat_minor": 5
}
